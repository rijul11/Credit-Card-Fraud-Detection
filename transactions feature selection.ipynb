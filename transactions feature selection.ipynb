{
 "cells": [
  {
   "cell_type": "markdown",
   "metadata": {},
   "source": [
    "This feature selection notebook does a filter followed by a wrapper for a binary dependent variable (binary classification). It's capable of doing the filter on more than one file. The variable files are called vars1.csv, vars2.csv ... Or you can make the input file name(s) anything you want.\n",
    "\n",
    "The filter runs separately on each vars file and keeps the top num_filter variables from each file. If there are more than one vars files we'll again select the top num_filter variables across all the vars.csv files.\n",
    "\n",
    "If balance = 0 the entire files are used. If balance != 0 then balance is the RATIO OF BADS TO GOODS retained for the rest of the feature selection. We keep all the rare class (bads) and downsample the goods. I think in general it's better to keep balance = 0.\n",
    "\n",
    "I've got an annoying warning message from the wrapper and I can't figure out how to get rid of it. If anybody figures this out please send a message to stevecoggeshall@gmail.com"
   ]
  },
  {
   "cell_type": "code",
   "execution_count": 3,
   "metadata": {
    "scrolled": false
   },
   "outputs": [
    {
     "name": "stdout",
     "output_type": "stream",
     "text": [
      "Collecting lightgbm\n",
      "  Downloading lightgbm-3.3.5-py3-none-win_amd64.whl (1.0 MB)\n",
      "     ---------------------------------------- 1.0/1.0 MB 3.1 MB/s eta 0:00:00\n",
      "Requirement already satisfied: scipy in c:\\users\\rijul\\anaconda3\\lib\\site-packages (from lightgbm) (1.9.1)\n",
      "Requirement already satisfied: numpy in c:\\users\\rijul\\anaconda3\\lib\\site-packages (from lightgbm) (1.21.5)\n",
      "Requirement already satisfied: wheel in c:\\users\\rijul\\anaconda3\\lib\\site-packages (from lightgbm) (0.37.1)\n",
      "Requirement already satisfied: scikit-learn!=0.22.0 in c:\\users\\rijul\\anaconda3\\lib\\site-packages (from lightgbm) (1.0.2)\n",
      "Requirement already satisfied: threadpoolctl>=2.0.0 in c:\\users\\rijul\\anaconda3\\lib\\site-packages (from scikit-learn!=0.22.0->lightgbm) (2.2.0)\n",
      "Requirement already satisfied: joblib>=0.11 in c:\\users\\rijul\\anaconda3\\lib\\site-packages (from scikit-learn!=0.22.0->lightgbm) (1.1.0)\n",
      "Installing collected packages: lightgbm\n",
      "Successfully installed lightgbm-3.3.5\n"
     ]
    }
   ],
   "source": [
    "\n",
    "import pandas as pd\n",
    "import numpy as np\n",
    "import scipy.stats as sps\n",
    "import matplotlib.pyplot as plt\n",
    "import datetime as dt\n",
    "import gc\n",
    "from sklearn.ensemble import RandomForestClassifier\n",
    "from mlxtend.feature_selection import SequentialFeatureSelector as SFS\n",
    "from lightgbm import LGBMClassifier\n",
    "%matplotlib inline\n",
    "start_time = dt.datetime.now()"
   ]
  },
  {
   "cell_type": "code",
   "execution_count": 4,
   "metadata": {},
   "outputs": [],
   "source": [
    "# set some parameters\n",
    "num_files = 1\n",
    "# I recommend set num_filter to be about 10 to 20% of the original # variables\n",
    "num_filter = 200\n",
    "# I recommend set num_wrapper to be about 50, then look for a saturation of the model performance as variables are added\n",
    "# Then you can run it again with num_wrapper just a bit above this saturation point, not more than about twice this saturation number\n",
    "num_wrapper = 20\n",
    "balance = 0\n",
    "detect_rate = .03\n",
    "index_name = 'Recnum'\n",
    "y_name = 'Fraud'\n",
    "good_label = 0\n",
    "bad_label = 1"
   ]
  },
  {
   "cell_type": "markdown",
   "metadata": {},
   "source": [
    "## Run a filter on all the files"
   ]
  },
  {
   "cell_type": "code",
   "execution_count": null,
   "metadata": {},
   "outputs": [],
   "source": [
    "%%time\n",
    "filter_score_df_list = []\n",
    "for i in range(num_files):\n",
    "#     file_name = \"vars\"+str(i+1)+'.csv'\n",
    "    file_name = 'candidate_variables.csv'\n",
    "    df = pd.read_csv(file_name)\n",
    "    print(\"********** working on\",file_name,\"size is\",df.shape)\n",
    "    df = df.set_index(index_name) \n",
    "#     df = df[df.index <= 84300] # remove the last two months as the out-of-time data (OOT)\n",
    "    df = df[df.index >= 2995] # remove the first 2 weeks of records since their variables aren't well formed\n",
    "    df['RANDOM'] = np.random.ranf(len(df)) # add a random number variable to make sure it doesn't come up as important\n",
    "    goods = df[df[y_name] == good_label]\n",
    "    bads = df[df[y_name] == bad_label]\n",
    "    del df # don't need this file anymore\n",
    "    num_goods = len(goods)\n",
    "    num_bads = len(bads)\n",
    "    num_vars = len(bads.columns)-2\n",
    "    if(balance != 0):\n",
    "        if(i == 0):\n",
    "            num_goods_desired = int(min(num_goods,num_bads*balance))\n",
    "            goods = goods.sample(n=num_goods_desired,random_state=1)\n",
    "            goods_keep = list(goods.index)\n",
    "            goods_keep.sort()\n",
    "    \n",
    "        if(i > 0):\n",
    "            goods = goods.loc[goods_keep] \n",
    "            \n",
    "    df_sampled = pd.concat([goods,bads])\n",
    "    df_sampled.sort_index(inplace=True)\n",
    "    filter_score = pd.DataFrame(np.zeros((num_vars+1,2)))\n",
    "    filter_score.columns = ['variable','filter score']   \n",
    "    j = 0\n",
    "    for column in df_sampled:\n",
    "        filter_score.loc[j,'variable'] = column\n",
    "        filter_score.loc[j,'filter score'] = sps.ks_2samp(goods[column],bads[column])[0]\n",
    "        j = j+1\n",
    "        if j%100 == 0:\n",
    "            print(j)\n",
    "\n",
    "    filter_score.sort_values(by=['filter score'], ascending=False, inplace=True)\n",
    "    vars_keep = list(filter_score['variable'][1:num_filter+1]) \n",
    "    print(file_name,filter_score.head(20))\n",
    "    if(i == 0): # if first time through need to initialize some stuff\n",
    "        Y = pd.DataFrame(df_sampled[y_name], index=df_sampled.index)\n",
    "        df_top = df_sampled.filter(vars_keep, axis=1)\n",
    "            \n",
    "    if(i > 0): # if more than one variable file we use this loop\n",
    "        data_new_top = df_sampled.filter(vars_keep, axis=1)\n",
    "        df_top = pd.concat([df_top,data_new_top], axis=1)\n",
    "\n",
    "    filter_score_df_list.append(filter_score)\n",
    "    \n",
    "    del goods # delete these before starting the next file, if any\n",
    "    del bads\n",
    "    gc.collect()\n",
    "filter_score = pd.concat(filter_score_df_list)"
   ]
  },
  {
   "cell_type": "code",
   "execution_count": 6,
   "metadata": {},
   "outputs": [
    {
     "ename": "NameError",
     "evalue": "name 'filter_score' is not defined",
     "output_type": "error",
     "traceback": [
      "\u001b[1;31m---------------------------------------------------------------------------\u001b[0m",
      "\u001b[1;31mNameError\u001b[0m                                 Traceback (most recent call last)",
      "\u001b[1;32m~\\AppData\\Local\\Temp\\ipykernel_29952\\633183133.py\u001b[0m in \u001b[0;36m<module>\u001b[1;34m\u001b[0m\n\u001b[1;32m----> 1\u001b[1;33m \u001b[0mfilter_score\u001b[0m\u001b[1;33m.\u001b[0m\u001b[0msort_values\u001b[0m\u001b[1;33m(\u001b[0m\u001b[0mby\u001b[0m\u001b[1;33m=\u001b[0m\u001b[1;33m[\u001b[0m\u001b[1;34m'filter score'\u001b[0m\u001b[1;33m]\u001b[0m\u001b[1;33m,\u001b[0m \u001b[0mascending\u001b[0m\u001b[1;33m=\u001b[0m\u001b[1;32mFalse\u001b[0m\u001b[1;33m,\u001b[0m \u001b[0minplace\u001b[0m\u001b[1;33m=\u001b[0m\u001b[1;32mTrue\u001b[0m\u001b[1;33m)\u001b[0m\u001b[1;33m\u001b[0m\u001b[1;33m\u001b[0m\u001b[0m\n\u001b[0m\u001b[0;32m      2\u001b[0m \u001b[0mfilter_score\u001b[0m\u001b[1;33m.\u001b[0m\u001b[0mreset_index\u001b[0m\u001b[1;33m(\u001b[0m\u001b[0mdrop\u001b[0m\u001b[1;33m=\u001b[0m\u001b[1;32mTrue\u001b[0m\u001b[1;33m,\u001b[0m\u001b[0minplace\u001b[0m\u001b[1;33m=\u001b[0m\u001b[1;32mTrue\u001b[0m\u001b[1;33m)\u001b[0m\u001b[1;33m\u001b[0m\u001b[1;33m\u001b[0m\u001b[0m\n",
      "\u001b[1;31mNameError\u001b[0m: name 'filter_score' is not defined"
     ]
    }
   ],
   "source": [
    "filter_score.sort_values(by=['filter score'], ascending=False, inplace=True)\n",
    "filter_score.reset_index(drop=True,inplace=True)"
   ]
  },
  {
   "cell_type": "code",
   "execution_count": null,
   "metadata": {},
   "outputs": [],
   "source": [
    "filter_score.head(30)"
   ]
  },
  {
   "cell_type": "code",
   "execution_count": null,
   "metadata": {},
   "outputs": [],
   "source": [
    "filter_score.tail(10)"
   ]
  },
  {
   "cell_type": "code",
   "execution_count": null,
   "metadata": {},
   "outputs": [],
   "source": [
    "filter_score.shape"
   ]
  },
  {
   "cell_type": "code",
   "execution_count": null,
   "metadata": {
    "scrolled": true
   },
   "outputs": [],
   "source": [
    "filter_score.head(80).to_csv('filter_top.csv')\n",
    "vars_keep = list(filter_score['variable'][num_files:num_filter+3])\n",
    "print(i,' vars_keep:',vars_keep)"
   ]
  },
  {
   "cell_type": "code",
   "execution_count": null,
   "metadata": {
    "scrolled": false
   },
   "outputs": [],
   "source": [
    "vars_keep_df = pd.DataFrame({'col':vars_keep})\n",
    "vars_keep_df.to_csv('vars_keep_filter.csv',index=False)\n",
    "df_keep = df_top.filter(vars_keep, axis=1)\n",
    "df_keep.head()"
   ]
  },
  {
   "cell_type": "code",
   "execution_count": null,
   "metadata": {},
   "outputs": [],
   "source": [
    "df_keep.shape"
   ]
  },
  {
   "cell_type": "code",
   "execution_count": null,
   "metadata": {},
   "outputs": [],
   "source": [
    "Y.head()"
   ]
  },
  {
   "cell_type": "code",
   "execution_count": null,
   "metadata": {},
   "outputs": [],
   "source": [
    "Y = Y.values\n",
    "Y_save = Y.copy()"
   ]
  },
  {
   "cell_type": "code",
   "execution_count": null,
   "metadata": {},
   "outputs": [],
   "source": [
    "# Y = np.array(Y)\n",
    "X = df_keep\n",
    "print(Y)"
   ]
  },
  {
   "cell_type": "code",
   "execution_count": null,
   "metadata": {},
   "outputs": [],
   "source": [
    "print('time to here:', dt.datetime.now() - start_time)"
   ]
  },
  {
   "cell_type": "code",
   "execution_count": null,
   "metadata": {},
   "outputs": [],
   "source": [
    "print(X.shape,Y.shape)"
   ]
  },
  {
   "cell_type": "code",
   "execution_count": null,
   "metadata": {},
   "outputs": [],
   "source": [
    "print(type(X),type(Y))"
   ]
  },
  {
   "cell_type": "code",
   "execution_count": null,
   "metadata": {},
   "outputs": [],
   "source": [
    "# I'd like to define a scoring for the wrapper that's KS, but I haven't gotten around to this yet.\n",
    "# def KSscore(classifier, x,y)\n",
    "#     goods = "
   ]
  },
  {
   "cell_type": "code",
   "execution_count": null,
   "metadata": {},
   "outputs": [],
   "source": [
    "def fdr(classifier, x, y, cutoff=detect_rate):\n",
    "# Calculates FDR score for the given classifier on dataset x and y with cutoff value\n",
    "# get the probability list from the given classifier\n",
    "    return fdr_prob(y, classifier.predict_proba(x), cutoff)\n",
    "def fdr_prob(y, y_prob, cutoff=detect_rate):\n",
    "    if len(y_prob.shape) != 1:    # sometimes the proba list can contain many columns, one for each category\n",
    "        y_prob = y_prob[:, -1:]   # only the last one (fraud_label==1) is used here.\n",
    "    num_fraud = len(y[y == 1])    # count the total nunber of frauds   \n",
    "# sort the proba list from high to low while retain the true (not predicted) fraud label\n",
    "    sorted_prob = np.asarray(sorted(zip(y_prob, y), key=lambda x: x[0], reverse=True))\n",
    "    cutoff_bin = sorted_prob[0:int(len(y) * cutoff), 1:]  # 3% cutoff\n",
    "# return the FDR score (#fraud_in_cutoff / #total_fraud)\n",
    "    return len(cutoff_bin[cutoff_bin == 1]) / num_fraud   "
   ]
  },
  {
   "cell_type": "markdown",
   "metadata": {},
   "source": [
    "## Run a wrapper on the remaining top variables"
   ]
  },
  {
   "cell_type": "code",
   "execution_count": null,
   "metadata": {
    "scrolled": true
   },
   "outputs": [],
   "source": [
    "%%time\n",
    "import warnings \n",
    "warnings.filterwarnings(\"ignore\", category=DeprecationWarning) \n",
    "# If you're doing forward selection it's enough to stop at num_wrapper variables. \n",
    "# If you're doing backward selection you need to go through all the variables to get a sorted list of num_wrapper variables.\n",
    "\n",
    "# I can't figure out how to get rid of this annoying warning! I don't know what I'm doing wrong...\n",
    "\n",
    "nfeatures = len(X.columns)\n",
    "# clf = RandomForestClassifier(n_estimators=5) # simple, fast nonlinear model for the wrapper\n",
    "clf = LGBMClassifier(n_estimators=40,num_leaves=4) # simple, fast nonlinear model for the wrapper\n",
    "sfs = SFS(clf,k_features=num_wrapper,forward=True,verbose=0,scoring=fdr,cv=4,n_jobs=-1) # use for forward selection\n",
    "# sfs = SFS(clf,k_features=1,forward=False,verbose=0,scoring=fdr,cv=4,n_jobs=-1) # use for backward selection\n",
    "sfs.fit(X,Y)"
   ]
  },
  {
   "cell_type": "code",
   "execution_count": 20,
   "metadata": {},
   "outputs": [
    {
     "name": "stdout",
     "output_type": "stream",
     "text": [
      "time to here: 0:10:29.394128\n"
     ]
    }
   ],
   "source": [
    "print('time to here:', dt.datetime.now() - start_time)"
   ]
  },
  {
   "cell_type": "code",
   "execution_count": 21,
   "metadata": {},
   "outputs": [
    {
     "data": {
      "image/png": "[encoded data removed]",
      "text/plain": [
       "<Figure size 1500x600 with 1 Axes>"
      ]
     },
     "metadata": {},
     "output_type": "display_data"
    }
   ],
   "source": [
    "from mlxtend.plotting import plot_sequential_feature_selection as plot_sfs\n",
    "fig1 = plot_sfs(sfs.get_metric_dict(),kind='std_dev', figsize=(15, 6))\n",
    "# plt.xticks(np.arange(0, len(X.columns), step=5))\n",
    "plt.xticks(np.arange(0, num_wrapper, step=5))\n",
    "plt.yticks(np.arange(0,1,step=.1))\n",
    "plt.ylim([.5, .8])\n",
    "plt.xlim(0,num_wrapper)\n",
    "plt.title('Stepwise Selection')\n",
    "plt.grid()\n",
    "plt.savefig('performance_nvars.png')\n",
    "plt.show()"
   ]
  },
  {
   "cell_type": "code",
   "execution_count": 22,
   "metadata": {},
   "outputs": [],
   "source": [
    "vars_FS = pd.DataFrame.from_dict(sfs.get_metric_dict()).T"
   ]
  },
  {
   "cell_type": "code",
   "execution_count": 23,
   "metadata": {},
   "outputs": [],
   "source": [
    "ordered_vars_FS = vars_FS.copy()\n",
    "for i in range(len(ordered_vars_FS)):\n",
    "    ordered_vars_FS.loc[i+1,'add variables in this order'] = int(i+1)\n",
    "    if i+1 == 1:\n",
    "        ordered_vars_FS.loc[i+1,'variable name'] = (list(ordered_vars_FS.loc[i+1,'feature_names'])[0])\n",
    "    else:\n",
    "        ordered_vars_FS.loc[i+1,'variable name'] = (list(set(ordered_vars_FS.loc[i+1,'feature_names']) - set(ordered_vars_FS.loc[i,'feature_names'])))[0]\n",
    "# You might also need this following line. It converts a list to a string\n",
    "#         ordered_vars_FS.loc[i+1,'variable name'] = ordered_vars_FS.loc[i+1,'variable name'][0]"
   ]
  },
  {
   "cell_type": "code",
   "execution_count": 24,
   "metadata": {
    "scrolled": false
   },
   "outputs": [
    {
     "data": {
      "text/html": [
       "<div>\n",
       "<style scoped>\n",
       "    .dataframe tbody tr th:only-of-type {\n",
       "        vertical-align: middle;\n",
       "    }\n",
       "\n",
       "    .dataframe tbody tr th {\n",
       "        vertical-align: top;\n",
       "    }\n",
       "\n",
       "    .dataframe thead th {\n",
       "        text-align: right;\n",
       "    }\n",
       "</style>\n",
       "<table border=\"1\" class=\"dataframe\">\n",
       "  <thead>\n",
       "    <tr style=\"text-align: right;\">\n",
       "      <th></th>\n",
       "      <th>feature_idx</th>\n",
       "      <th>cv_scores</th>\n",
       "      <th>avg_score</th>\n",
       "      <th>feature_names</th>\n",
       "      <th>ci_bound</th>\n",
       "      <th>std_dev</th>\n",
       "      <th>std_err</th>\n",
       "      <th>add variables in this order</th>\n",
       "      <th>variable name</th>\n",
       "    </tr>\n",
       "  </thead>\n",
       "  <tbody>\n",
       "    <tr>\n",
       "      <th>1</th>\n",
       "      <td>(15,)</td>\n",
       "      <td>[0.6908396946564885, 0.5670498084291188, 0.709...</td>\n",
       "      <td>0.595961</td>\n",
       "      <td>(card_merch_total_14,)</td>\n",
       "      <td>0.188308</td>\n",
       "      <td>0.117474</td>\n",
       "      <td>0.067823</td>\n",
       "      <td>1.0</td>\n",
       "      <td>card_merch_total_14</td>\n",
       "    </tr>\n",
       "    <tr>\n",
       "      <th>2</th>\n",
       "      <td>(15, 16)</td>\n",
       "      <td>[0.7404580152671756, 0.6360153256704981, 0.744...</td>\n",
       "      <td>0.660912</td>\n",
       "      <td>(card_merch_total_14, card_zip3_max_14)</td>\n",
       "      <td>0.145474</td>\n",
       "      <td>0.090752</td>\n",
       "      <td>0.052396</td>\n",
       "      <td>2.0</td>\n",
       "      <td>card_zip3_max_14</td>\n",
       "    </tr>\n",
       "    <tr>\n",
       "      <th>3</th>\n",
       "      <td>(15, 16, 173)</td>\n",
       "      <td>[0.7595419847328244, 0.632183908045977, 0.7786...</td>\n",
       "      <td>0.676176</td>\n",
       "      <td>(card_merch_total_14, card_zip3_max_14, card_m...</td>\n",
       "      <td>0.159284</td>\n",
       "      <td>0.099367</td>\n",
       "      <td>0.05737</td>\n",
       "      <td>3.0</td>\n",
       "      <td>card_merch_avg_14</td>\n",
       "    </tr>\n",
       "    <tr>\n",
       "      <th>4</th>\n",
       "      <td>(15, 16, 153, 173)</td>\n",
       "      <td>[0.7900763358778626, 0.6896551724137931, 0.797...</td>\n",
       "      <td>0.696269</td>\n",
       "      <td>(card_merch_total_14, card_zip3_max_14, state_...</td>\n",
       "      <td>0.187482</td>\n",
       "      <td>0.116958</td>\n",
       "      <td>0.067526</td>\n",
       "      <td>4.0</td>\n",
       "      <td>state_des_max_1</td>\n",
       "    </tr>\n",
       "    <tr>\n",
       "      <th>5</th>\n",
       "      <td>(15, 16, 45, 153, 173)</td>\n",
       "      <td>[0.767175572519084, 0.685823754789272, 0.82061...</td>\n",
       "      <td>0.701036</td>\n",
       "      <td>(card_merch_total_14, card_zip3_max_14, card_z...</td>\n",
       "      <td>0.175552</td>\n",
       "      <td>0.109516</td>\n",
       "      <td>0.063229</td>\n",
       "      <td>5.0</td>\n",
       "      <td>card_zip_max_60</td>\n",
       "    </tr>\n",
       "    <tr>\n",
       "      <th>6</th>\n",
       "      <td>(15, 16, 45, 153, 169, 173)</td>\n",
       "      <td>[0.7977099236641222, 0.6934865900383141, 0.812...</td>\n",
       "      <td>0.709631</td>\n",
       "      <td>(card_merch_total_14, card_zip3_max_14, card_z...</td>\n",
       "      <td>0.17818</td>\n",
       "      <td>0.111155</td>\n",
       "      <td>0.064176</td>\n",
       "      <td>6.0</td>\n",
       "      <td>Card_Merchnum_desc_avg_30</td>\n",
       "    </tr>\n",
       "    <tr>\n",
       "      <th>7</th>\n",
       "      <td>(15, 16, 45, 64, 153, 169, 173)</td>\n",
       "      <td>[0.7862595419847328, 0.6973180076628352, 0.824...</td>\n",
       "      <td>0.711543</td>\n",
       "      <td>(card_merch_total_14, card_zip3_max_14, card_z...</td>\n",
       "      <td>0.176668</td>\n",
       "      <td>0.110212</td>\n",
       "      <td>0.063631</td>\n",
       "      <td>7.0</td>\n",
       "      <td>Card_Merchnum_Zip_total_60</td>\n",
       "    </tr>\n",
       "    <tr>\n",
       "      <th>8</th>\n",
       "      <td>(15, 16, 45, 48, 64, 153, 169, 173)</td>\n",
       "      <td>[0.7748091603053435, 0.7049808429118773, 0.824...</td>\n",
       "      <td>0.709642</td>\n",
       "      <td>(card_merch_total_14, card_zip3_max_14, card_z...</td>\n",
       "      <td>0.17591</td>\n",
       "      <td>0.10974</td>\n",
       "      <td>0.063358</td>\n",
       "      <td>8.0</td>\n",
       "      <td>Card_Merchdesc_Zip_total_30</td>\n",
       "    </tr>\n",
       "    <tr>\n",
       "      <th>9</th>\n",
       "      <td>(15, 16, 45, 48, 64, 153, 169, 173, 192)</td>\n",
       "      <td>[0.8053435114503816, 0.6896551724137931, 0.816...</td>\n",
       "      <td>0.711536</td>\n",
       "      <td>(card_merch_total_14, card_zip3_max_14, card_z...</td>\n",
       "      <td>0.182332</td>\n",
       "      <td>0.113746</td>\n",
       "      <td>0.065671</td>\n",
       "      <td>9.0</td>\n",
       "      <td>card_zip_avg_1</td>\n",
       "    </tr>\n",
       "    <tr>\n",
       "      <th>10</th>\n",
       "      <td>(15, 16, 45, 48, 64, 153, 169, 173, 174, 192)</td>\n",
       "      <td>[0.8053435114503816, 0.6819923371647509, 0.828...</td>\n",
       "      <td>0.713437</td>\n",
       "      <td>(card_merch_total_14, card_zip3_max_14, card_z...</td>\n",
       "      <td>0.1851</td>\n",
       "      <td>0.115472</td>\n",
       "      <td>0.066668</td>\n",
       "      <td>10.0</td>\n",
       "      <td>Card_Merchnum_Zip_avg_14</td>\n",
       "    </tr>\n",
       "    <tr>\n",
       "      <th>11</th>\n",
       "      <td>(15, 16, 45, 48, 64, 149, 153, 169, 173, 174, ...</td>\n",
       "      <td>[0.8053435114503816, 0.6934865900383141, 0.832...</td>\n",
       "      <td>0.716311</td>\n",
       "      <td>(card_merch_total_14, card_zip3_max_14, card_z...</td>\n",
       "      <td>0.18789</td>\n",
       "      <td>0.117213</td>\n",
       "      <td>0.067673</td>\n",
       "      <td>11.0</td>\n",
       "      <td>card_merch_avg_3</td>\n",
       "    </tr>\n",
       "    <tr>\n",
       "      <th>12</th>\n",
       "      <td>(15, 16, 45, 48, 62, 64, 149, 153, 169, 173, 1...</td>\n",
       "      <td>[0.8053435114503816, 0.6934865900383141, 0.839...</td>\n",
       "      <td>0.720127</td>\n",
       "      <td>(card_merch_total_14, card_zip3_max_14, card_z...</td>\n",
       "      <td>0.186254</td>\n",
       "      <td>0.116192</td>\n",
       "      <td>0.067084</td>\n",
       "      <td>12.0</td>\n",
       "      <td>card_merch_total_60</td>\n",
       "    </tr>\n",
       "    <tr>\n",
       "      <th>13</th>\n",
       "      <td>(15, 16, 45, 48, 62, 64, 149, 151, 153, 169, 1...</td>\n",
       "      <td>[0.8053435114503816, 0.6934865900383141, 0.839...</td>\n",
       "      <td>0.720127</td>\n",
       "      <td>(card_merch_total_14, card_zip3_max_14, card_z...</td>\n",
       "      <td>0.186254</td>\n",
       "      <td>0.116192</td>\n",
       "      <td>0.067084</td>\n",
       "      <td>13.0</td>\n",
       "      <td>Card_Merchnum_Zip_avg_3</td>\n",
       "    </tr>\n",
       "    <tr>\n",
       "      <th>14</th>\n",
       "      <td>(15, 16, 45, 48, 62, 64, 149, 151, 153, 169, 1...</td>\n",
       "      <td>[0.7977099236641222, 0.6934865900383141, 0.828...</td>\n",
       "      <td>0.715356</td>\n",
       "      <td>(card_merch_total_14, card_zip3_max_14, card_z...</td>\n",
       "      <td>0.179329</td>\n",
       "      <td>0.111872</td>\n",
       "      <td>0.06459</td>\n",
       "      <td>14.0</td>\n",
       "      <td>Card_Merchdesc_Zip_avg_7</td>\n",
       "    </tr>\n",
       "    <tr>\n",
       "      <th>15</th>\n",
       "      <td>(15, 16, 45, 48, 62, 64, 149, 151, 153, 169, 1...</td>\n",
       "      <td>[0.7977099236641222, 0.6934865900383141, 0.828...</td>\n",
       "      <td>0.715356</td>\n",
       "      <td>(card_merch_total_14, card_zip3_max_14, card_z...</td>\n",
       "      <td>0.179329</td>\n",
       "      <td>0.111872</td>\n",
       "      <td>0.06459</td>\n",
       "      <td>15.0</td>\n",
       "      <td>Card_Merchdesc_avg_7</td>\n",
       "    </tr>\n",
       "    <tr>\n",
       "      <th>16</th>\n",
       "      <td>(15, 16, 45, 48, 62, 64, 149, 151, 153, 169, 1...</td>\n",
       "      <td>[0.8015267175572519, 0.6934865900383141, 0.828...</td>\n",
       "      <td>0.716311</td>\n",
       "      <td>(card_merch_total_14, card_zip3_max_14, card_z...</td>\n",
       "      <td>0.180471</td>\n",
       "      <td>0.112585</td>\n",
       "      <td>0.065001</td>\n",
       "      <td>16.0</td>\n",
       "      <td>Card_Merchnum_Zip_avg_1</td>\n",
       "    </tr>\n",
       "    <tr>\n",
       "      <th>17</th>\n",
       "      <td>(15, 16, 45, 48, 62, 64, 149, 151, 153, 168, 1...</td>\n",
       "      <td>[0.8015267175572519, 0.6934865900383141, 0.828...</td>\n",
       "      <td>0.716311</td>\n",
       "      <td>(card_merch_total_14, card_zip3_max_14, card_z...</td>\n",
       "      <td>0.180471</td>\n",
       "      <td>0.112585</td>\n",
       "      <td>0.065001</td>\n",
       "      <td>17.0</td>\n",
       "      <td>Card_Merchnum_desc_avg_7</td>\n",
       "    </tr>\n",
       "    <tr>\n",
       "      <th>18</th>\n",
       "      <td>(15, 16, 45, 48, 62, 64, 96, 149, 151, 153, 16...</td>\n",
       "      <td>[0.7977099236641222, 0.6934865900383141, 0.828...</td>\n",
       "      <td>0.717265</td>\n",
       "      <td>(card_merch_total_14, card_zip3_max_14, card_z...</td>\n",
       "      <td>0.174605</td>\n",
       "      <td>0.108925</td>\n",
       "      <td>0.062888</td>\n",
       "      <td>18.0</td>\n",
       "      <td>Card_Merchnum_desc_max_1</td>\n",
       "    </tr>\n",
       "    <tr>\n",
       "      <th>19</th>\n",
       "      <td>(15, 16, 45, 48, 62, 64, 96, 149, 151, 153, 16...</td>\n",
       "      <td>[0.7977099236641222, 0.6934865900383141, 0.828...</td>\n",
       "      <td>0.717265</td>\n",
       "      <td>(card_merch_total_14, card_zip3_max_14, card_z...</td>\n",
       "      <td>0.174605</td>\n",
       "      <td>0.108925</td>\n",
       "      <td>0.062888</td>\n",
       "      <td>19.0</td>\n",
       "      <td>card_merch_avg_1</td>\n",
       "    </tr>\n",
       "    <tr>\n",
       "      <th>20</th>\n",
       "      <td>(15, 16, 45, 48, 62, 64, 96, 149, 151, 153, 15...</td>\n",
       "      <td>[0.7977099236641222, 0.7011494252873564, 0.824...</td>\n",
       "      <td>0.714409</td>\n",
       "      <td>(card_merch_total_14, card_zip3_max_14, card_z...</td>\n",
       "      <td>0.182134</td>\n",
       "      <td>0.113622</td>\n",
       "      <td>0.0656</td>\n",
       "      <td>20.0</td>\n",
       "      <td>merch_state_max_1</td>\n",
       "    </tr>\n",
       "  </tbody>\n",
       "</table>\n",
       "</div>"
      ],
      "text/plain": [
       "                                          feature_idx  \\\n",
       "1                                               (15,)   \n",
       "2                                            (15, 16)   \n",
       "3                                       (15, 16, 173)   \n",
       "4                                  (15, 16, 153, 173)   \n",
       "5                              (15, 16, 45, 153, 173)   \n",
       "6                         (15, 16, 45, 153, 169, 173)   \n",
       "7                     (15, 16, 45, 64, 153, 169, 173)   \n",
       "8                 (15, 16, 45, 48, 64, 153, 169, 173)   \n",
       "9            (15, 16, 45, 48, 64, 153, 169, 173, 192)   \n",
       "10      (15, 16, 45, 48, 64, 153, 169, 173, 174, 192)   \n",
       "11  (15, 16, 45, 48, 64, 149, 153, 169, 173, 174, ...   \n",
       "12  (15, 16, 45, 48, 62, 64, 149, 153, 169, 173, 1...   \n",
       "13  (15, 16, 45, 48, 62, 64, 149, 151, 153, 169, 1...   \n",
       "14  (15, 16, 45, 48, 62, 64, 149, 151, 153, 169, 1...   \n",
       "15  (15, 16, 45, 48, 62, 64, 149, 151, 153, 169, 1...   \n",
       "16  (15, 16, 45, 48, 62, 64, 149, 151, 153, 169, 1...   \n",
       "17  (15, 16, 45, 48, 62, 64, 149, 151, 153, 168, 1...   \n",
       "18  (15, 16, 45, 48, 62, 64, 96, 149, 151, 153, 16...   \n",
       "19  (15, 16, 45, 48, 62, 64, 96, 149, 151, 153, 16...   \n",
       "20  (15, 16, 45, 48, 62, 64, 96, 149, 151, 153, 15...   \n",
       "\n",
       "                                            cv_scores avg_score  \\\n",
       "1   [0.6908396946564885, 0.5670498084291188, 0.709...  0.595961   \n",
       "2   [0.7404580152671756, 0.6360153256704981, 0.744...  0.660912   \n",
       "3   [0.7595419847328244, 0.632183908045977, 0.7786...  0.676176   \n",
       "4   [0.7900763358778626, 0.6896551724137931, 0.797...  0.696269   \n",
       "5   [0.767175572519084, 0.685823754789272, 0.82061...  0.701036   \n",
       "6   [0.7977099236641222, 0.6934865900383141, 0.812...  0.709631   \n",
       "7   [0.7862595419847328, 0.6973180076628352, 0.824...  0.711543   \n",
       "8   [0.7748091603053435, 0.7049808429118773, 0.824...  0.709642   \n",
       "9   [0.8053435114503816, 0.6896551724137931, 0.816...  0.711536   \n",
       "10  [0.8053435114503816, 0.6819923371647509, 0.828...  0.713437   \n",
       "11  [0.8053435114503816, 0.6934865900383141, 0.832...  0.716311   \n",
       "12  [0.8053435114503816, 0.6934865900383141, 0.839...  0.720127   \n",
       "13  [0.8053435114503816, 0.6934865900383141, 0.839...  0.720127   \n",
       "14  [0.7977099236641222, 0.6934865900383141, 0.828...  0.715356   \n",
       "15  [0.7977099236641222, 0.6934865900383141, 0.828...  0.715356   \n",
       "16  [0.8015267175572519, 0.6934865900383141, 0.828...  0.716311   \n",
       "17  [0.8015267175572519, 0.6934865900383141, 0.828...  0.716311   \n",
       "18  [0.7977099236641222, 0.6934865900383141, 0.828...  0.717265   \n",
       "19  [0.7977099236641222, 0.6934865900383141, 0.828...  0.717265   \n",
       "20  [0.7977099236641222, 0.7011494252873564, 0.824...  0.714409   \n",
       "\n",
       "                                        feature_names  ci_bound   std_dev  \\\n",
       "1                              (card_merch_total_14,)  0.188308  0.117474   \n",
       "2             (card_merch_total_14, card_zip3_max_14)  0.145474  0.090752   \n",
       "3   (card_merch_total_14, card_zip3_max_14, card_m...  0.159284  0.099367   \n",
       "4   (card_merch_total_14, card_zip3_max_14, state_...  0.187482  0.116958   \n",
       "5   (card_merch_total_14, card_zip3_max_14, card_z...  0.175552  0.109516   \n",
       "6   (card_merch_total_14, card_zip3_max_14, card_z...   0.17818  0.111155   \n",
       "7   (card_merch_total_14, card_zip3_max_14, card_z...  0.176668  0.110212   \n",
       "8   (card_merch_total_14, card_zip3_max_14, card_z...   0.17591   0.10974   \n",
       "9   (card_merch_total_14, card_zip3_max_14, card_z...  0.182332  0.113746   \n",
       "10  (card_merch_total_14, card_zip3_max_14, card_z...    0.1851  0.115472   \n",
       "11  (card_merch_total_14, card_zip3_max_14, card_z...   0.18789  0.117213   \n",
       "12  (card_merch_total_14, card_zip3_max_14, card_z...  0.186254  0.116192   \n",
       "13  (card_merch_total_14, card_zip3_max_14, card_z...  0.186254  0.116192   \n",
       "14  (card_merch_total_14, card_zip3_max_14, card_z...  0.179329  0.111872   \n",
       "15  (card_merch_total_14, card_zip3_max_14, card_z...  0.179329  0.111872   \n",
       "16  (card_merch_total_14, card_zip3_max_14, card_z...  0.180471  0.112585   \n",
       "17  (card_merch_total_14, card_zip3_max_14, card_z...  0.180471  0.112585   \n",
       "18  (card_merch_total_14, card_zip3_max_14, card_z...  0.174605  0.108925   \n",
       "19  (card_merch_total_14, card_zip3_max_14, card_z...  0.174605  0.108925   \n",
       "20  (card_merch_total_14, card_zip3_max_14, card_z...  0.182134  0.113622   \n",
       "\n",
       "     std_err  add variables in this order                variable name  \n",
       "1   0.067823                          1.0          card_merch_total_14  \n",
       "2   0.052396                          2.0             card_zip3_max_14  \n",
       "3    0.05737                          3.0            card_merch_avg_14  \n",
       "4   0.067526                          4.0              state_des_max_1  \n",
       "5   0.063229                          5.0              card_zip_max_60  \n",
       "6   0.064176                          6.0    Card_Merchnum_desc_avg_30  \n",
       "7   0.063631                          7.0   Card_Merchnum_Zip_total_60  \n",
       "8   0.063358                          8.0  Card_Merchdesc_Zip_total_30  \n",
       "9   0.065671                          9.0               card_zip_avg_1  \n",
       "10  0.066668                         10.0     Card_Merchnum_Zip_avg_14  \n",
       "11  0.067673                         11.0             card_merch_avg_3  \n",
       "12  0.067084                         12.0          card_merch_total_60  \n",
       "13  0.067084                         13.0      Card_Merchnum_Zip_avg_3  \n",
       "14   0.06459                         14.0     Card_Merchdesc_Zip_avg_7  \n",
       "15   0.06459                         15.0         Card_Merchdesc_avg_7  \n",
       "16  0.065001                         16.0      Card_Merchnum_Zip_avg_1  \n",
       "17  0.065001                         17.0     Card_Merchnum_desc_avg_7  \n",
       "18  0.062888                         18.0     Card_Merchnum_desc_max_1  \n",
       "19  0.062888                         19.0             card_merch_avg_1  \n",
       "20    0.0656                         20.0            merch_state_max_1  "
      ]
     },
     "execution_count": 24,
     "metadata": {},
     "output_type": "execute_result"
    }
   ],
   "source": [
    "ordered_vars_FS"
   ]
  },
  {
   "cell_type": "code",
   "execution_count": 25,
   "metadata": {},
   "outputs": [],
   "source": [
    "ordered_vars_FS.to_csv('Wrapper_selection_info.csv', index=False)"
   ]
  },
  {
   "cell_type": "code",
   "execution_count": 26,
   "metadata": {
    "scrolled": false
   },
   "outputs": [
    {
     "data": {
      "text/plain": [
       "1             card_merch_total_14\n",
       "2                card_zip3_max_14\n",
       "3               card_merch_avg_14\n",
       "4                 state_des_max_1\n",
       "5                 card_zip_max_60\n",
       "6       Card_Merchnum_desc_avg_30\n",
       "7      Card_Merchnum_Zip_total_60\n",
       "8     Card_Merchdesc_Zip_total_30\n",
       "9                  card_zip_avg_1\n",
       "10       Card_Merchnum_Zip_avg_14\n",
       "11               card_merch_avg_3\n",
       "12            card_merch_total_60\n",
       "13        Card_Merchnum_Zip_avg_3\n",
       "14       Card_Merchdesc_Zip_avg_7\n",
       "15           Card_Merchdesc_avg_7\n",
       "16        Card_Merchnum_Zip_avg_1\n",
       "17       Card_Merchnum_desc_avg_7\n",
       "18       Card_Merchnum_desc_max_1\n",
       "19               card_merch_avg_1\n",
       "20              merch_state_max_1\n",
       "Name: variable name, dtype: object"
      ]
     },
     "execution_count": 26,
     "metadata": {},
     "output_type": "execute_result"
    }
   ],
   "source": [
    "vars_keep = ordered_vars_FS['variable name']\n",
    "vars_keep_list = ordered_vars_FS['variable name'].tolist()\n",
    "vars_keep.to_csv('final_vars_list.csv',index=False)\n",
    "vars_keep"
   ]
  },
  {
   "cell_type": "code",
   "execution_count": 27,
   "metadata": {},
   "outputs": [
    {
     "data": {
      "text/html": [
       "<div>\n",
       "<style scoped>\n",
       "    .dataframe tbody tr th:only-of-type {\n",
       "        vertical-align: middle;\n",
       "    }\n",
       "\n",
       "    .dataframe tbody tr th {\n",
       "        vertical-align: top;\n",
       "    }\n",
       "\n",
       "    .dataframe thead th {\n",
       "        text-align: right;\n",
       "    }\n",
       "</style>\n",
       "<table border=\"1\" class=\"dataframe\">\n",
       "  <thead>\n",
       "    <tr style=\"text-align: right;\">\n",
       "      <th></th>\n",
       "      <th>filter score</th>\n",
       "    </tr>\n",
       "    <tr>\n",
       "      <th>variable</th>\n",
       "      <th></th>\n",
       "    </tr>\n",
       "  </thead>\n",
       "  <tbody>\n",
       "    <tr>\n",
       "      <th>card_zip3_total_7</th>\n",
       "      <td>0.676549</td>\n",
       "    </tr>\n",
       "    <tr>\n",
       "      <th>card_zip_total_7</th>\n",
       "      <td>0.666816</td>\n",
       "    </tr>\n",
       "    <tr>\n",
       "      <th>card_zip3_total_3</th>\n",
       "      <td>0.660260</td>\n",
       "    </tr>\n",
       "    <tr>\n",
       "      <th>card_zip3_total_14</th>\n",
       "      <td>0.659257</td>\n",
       "    </tr>\n",
       "    <tr>\n",
       "      <th>card_state_total_7</th>\n",
       "      <td>0.654135</td>\n",
       "    </tr>\n",
       "    <tr>\n",
       "      <th>...</th>\n",
       "      <td>...</td>\n",
       "    </tr>\n",
       "    <tr>\n",
       "      <th>merch_zip_unique_count_for_merch_state_7</th>\n",
       "      <td>0.000022</td>\n",
       "    </tr>\n",
       "    <tr>\n",
       "      <th>Card_Merchdesc_Zip_unique_count_for_card_state_1</th>\n",
       "      <td>0.000022</td>\n",
       "    </tr>\n",
       "    <tr>\n",
       "      <th>card_zip3_unique_count_for_card_state_1</th>\n",
       "      <td>0.000017</td>\n",
       "    </tr>\n",
       "    <tr>\n",
       "      <th>card_merch_unique_count_for_card_state_1</th>\n",
       "      <td>0.000011</td>\n",
       "    </tr>\n",
       "    <tr>\n",
       "      <th>card_merch_unique_count_for_Cardnum_1</th>\n",
       "      <td>0.000000</td>\n",
       "    </tr>\n",
       "  </tbody>\n",
       "</table>\n",
       "<p>2343 rows × 1 columns</p>\n",
       "</div>"
      ],
      "text/plain": [
       "                                                  filter score\n",
       "variable                                                      \n",
       "card_zip3_total_7                                     0.676549\n",
       "card_zip_total_7                                      0.666816\n",
       "card_zip3_total_3                                     0.660260\n",
       "card_zip3_total_14                                    0.659257\n",
       "card_state_total_7                                    0.654135\n",
       "...                                                        ...\n",
       "merch_zip_unique_count_for_merch_state_7              0.000022\n",
       "Card_Merchdesc_Zip_unique_count_for_card_state_1      0.000022\n",
       "card_zip3_unique_count_for_card_state_1               0.000017\n",
       "card_merch_unique_count_for_card_state_1              0.000011\n",
       "card_merch_unique_count_for_Cardnum_1                 0.000000\n",
       "\n",
       "[2343 rows x 1 columns]"
      ]
     },
     "execution_count": 27,
     "metadata": {},
     "output_type": "execute_result"
    }
   ],
   "source": [
    "filter_score.set_index('variable',drop=True,inplace=True)\n",
    "filter_score = filter_score.iloc[1:,:]\n",
    "filter_score"
   ]
  },
  {
   "cell_type": "code",
   "execution_count": 28,
   "metadata": {
    "scrolled": true
   },
   "outputs": [
    {
     "data": {
      "text/html": [
       "<div>\n",
       "<style scoped>\n",
       "    .dataframe tbody tr th:only-of-type {\n",
       "        vertical-align: middle;\n",
       "    }\n",
       "\n",
       "    .dataframe tbody tr th {\n",
       "        vertical-align: top;\n",
       "    }\n",
       "\n",
       "    .dataframe thead th {\n",
       "        text-align: right;\n",
       "    }\n",
       "</style>\n",
       "<table border=\"1\" class=\"dataframe\">\n",
       "  <thead>\n",
       "    <tr style=\"text-align: right;\">\n",
       "      <th></th>\n",
       "    </tr>\n",
       "    <tr>\n",
       "      <th>variable</th>\n",
       "    </tr>\n",
       "  </thead>\n",
       "  <tbody>\n",
       "    <tr>\n",
       "      <th>card_merch_total_14</th>\n",
       "    </tr>\n",
       "    <tr>\n",
       "      <th>card_zip3_max_14</th>\n",
       "    </tr>\n",
       "    <tr>\n",
       "      <th>card_merch_avg_14</th>\n",
       "    </tr>\n",
       "    <tr>\n",
       "      <th>state_des_max_1</th>\n",
       "    </tr>\n",
       "    <tr>\n",
       "      <th>card_zip_max_60</th>\n",
       "    </tr>\n",
       "  </tbody>\n",
       "</table>\n",
       "</div>"
      ],
      "text/plain": [
       "Empty DataFrame\n",
       "Columns: []\n",
       "Index: [card_merch_total_14, card_zip3_max_14, card_merch_avg_14, state_des_max_1, card_zip_max_60]"
      ]
     },
     "execution_count": 28,
     "metadata": {},
     "output_type": "execute_result"
    }
   ],
   "source": [
    "vars_keep_sorted = pd.DataFrame(vars_keep_list)\n",
    "vars_keep_sorted.columns=['variable']\n",
    "vars_keep_sorted.set_index('variable',drop=True,inplace=True)\n",
    "vars_keep_sorted.head()"
   ]
  },
  {
   "cell_type": "code",
   "execution_count": 29,
   "metadata": {
    "scrolled": false
   },
   "outputs": [],
   "source": [
    "vars_keep_sorted = pd.concat([vars_keep_sorted,filter_score],axis=1,join='inner')"
   ]
  },
  {
   "cell_type": "code",
   "execution_count": 30,
   "metadata": {
    "scrolled": false
   },
   "outputs": [
    {
     "data": {
      "text/html": [
       "<div>\n",
       "<style scoped>\n",
       "    .dataframe tbody tr th:only-of-type {\n",
       "        vertical-align: middle;\n",
       "    }\n",
       "\n",
       "    .dataframe tbody tr th {\n",
       "        vertical-align: top;\n",
       "    }\n",
       "\n",
       "    .dataframe thead th {\n",
       "        text-align: right;\n",
       "    }\n",
       "</style>\n",
       "<table border=\"1\" class=\"dataframe\">\n",
       "  <thead>\n",
       "    <tr style=\"text-align: right;\">\n",
       "      <th></th>\n",
       "      <th>wrapper order</th>\n",
       "      <th>variable</th>\n",
       "      <th>filter score</th>\n",
       "    </tr>\n",
       "  </thead>\n",
       "  <tbody>\n",
       "    <tr>\n",
       "      <th>0</th>\n",
       "      <td>1</td>\n",
       "      <td>card_merch_total_14</td>\n",
       "      <td>0.630048</td>\n",
       "    </tr>\n",
       "    <tr>\n",
       "      <th>1</th>\n",
       "      <td>2</td>\n",
       "      <td>card_zip3_max_14</td>\n",
       "      <td>0.629515</td>\n",
       "    </tr>\n",
       "    <tr>\n",
       "      <th>2</th>\n",
       "      <td>3</td>\n",
       "      <td>card_merch_avg_14</td>\n",
       "      <td>0.518386</td>\n",
       "    </tr>\n",
       "    <tr>\n",
       "      <th>3</th>\n",
       "      <td>4</td>\n",
       "      <td>state_des_max_1</td>\n",
       "      <td>0.524301</td>\n",
       "    </tr>\n",
       "    <tr>\n",
       "      <th>4</th>\n",
       "      <td>5</td>\n",
       "      <td>card_zip_max_60</td>\n",
       "      <td>0.605193</td>\n",
       "    </tr>\n",
       "    <tr>\n",
       "      <th>5</th>\n",
       "      <td>6</td>\n",
       "      <td>Card_Merchnum_desc_avg_30</td>\n",
       "      <td>0.519394</td>\n",
       "    </tr>\n",
       "    <tr>\n",
       "      <th>6</th>\n",
       "      <td>7</td>\n",
       "      <td>Card_Merchnum_Zip_total_60</td>\n",
       "      <td>0.597034</td>\n",
       "    </tr>\n",
       "    <tr>\n",
       "      <th>7</th>\n",
       "      <td>8</td>\n",
       "      <td>Card_Merchdesc_Zip_total_30</td>\n",
       "      <td>0.604455</td>\n",
       "    </tr>\n",
       "    <tr>\n",
       "      <th>8</th>\n",
       "      <td>9</td>\n",
       "      <td>card_zip_avg_1</td>\n",
       "      <td>0.514891</td>\n",
       "    </tr>\n",
       "    <tr>\n",
       "      <th>9</th>\n",
       "      <td>10</td>\n",
       "      <td>Card_Merchnum_Zip_avg_14</td>\n",
       "      <td>0.518122</td>\n",
       "    </tr>\n",
       "    <tr>\n",
       "      <th>10</th>\n",
       "      <td>11</td>\n",
       "      <td>card_merch_avg_3</td>\n",
       "      <td>0.525502</td>\n",
       "    </tr>\n",
       "    <tr>\n",
       "      <th>11</th>\n",
       "      <td>12</td>\n",
       "      <td>card_merch_total_60</td>\n",
       "      <td>0.598597</td>\n",
       "    </tr>\n",
       "    <tr>\n",
       "      <th>12</th>\n",
       "      <td>13</td>\n",
       "      <td>Card_Merchnum_Zip_avg_3</td>\n",
       "      <td>0.524558</td>\n",
       "    </tr>\n",
       "    <tr>\n",
       "      <th>13</th>\n",
       "      <td>14</td>\n",
       "      <td>Card_Merchdesc_Zip_avg_7</td>\n",
       "      <td>0.517607</td>\n",
       "    </tr>\n",
       "    <tr>\n",
       "      <th>14</th>\n",
       "      <td>15</td>\n",
       "      <td>Card_Merchdesc_avg_7</td>\n",
       "      <td>0.516608</td>\n",
       "    </tr>\n",
       "    <tr>\n",
       "      <th>15</th>\n",
       "      <td>16</td>\n",
       "      <td>Card_Merchnum_Zip_avg_1</td>\n",
       "      <td>0.514052</td>\n",
       "    </tr>\n",
       "    <tr>\n",
       "      <th>16</th>\n",
       "      <td>17</td>\n",
       "      <td>Card_Merchnum_desc_avg_7</td>\n",
       "      <td>0.519505</td>\n",
       "    </tr>\n",
       "    <tr>\n",
       "      <th>17</th>\n",
       "      <td>18</td>\n",
       "      <td>Card_Merchnum_desc_max_1</td>\n",
       "      <td>0.560029</td>\n",
       "    </tr>\n",
       "    <tr>\n",
       "      <th>18</th>\n",
       "      <td>19</td>\n",
       "      <td>card_merch_avg_1</td>\n",
       "      <td>0.515008</td>\n",
       "    </tr>\n",
       "    <tr>\n",
       "      <th>19</th>\n",
       "      <td>20</td>\n",
       "      <td>merch_state_max_1</td>\n",
       "      <td>0.522978</td>\n",
       "    </tr>\n",
       "  </tbody>\n",
       "</table>\n",
       "</div>"
      ],
      "text/plain": [
       "    wrapper order                     variable  filter score\n",
       "0               1          card_merch_total_14      0.630048\n",
       "1               2             card_zip3_max_14      0.629515\n",
       "2               3            card_merch_avg_14      0.518386\n",
       "3               4              state_des_max_1      0.524301\n",
       "4               5              card_zip_max_60      0.605193\n",
       "5               6    Card_Merchnum_desc_avg_30      0.519394\n",
       "6               7   Card_Merchnum_Zip_total_60      0.597034\n",
       "7               8  Card_Merchdesc_Zip_total_30      0.604455\n",
       "8               9               card_zip_avg_1      0.514891\n",
       "9              10     Card_Merchnum_Zip_avg_14      0.518122\n",
       "10             11             card_merch_avg_3      0.525502\n",
       "11             12          card_merch_total_60      0.598597\n",
       "12             13      Card_Merchnum_Zip_avg_3      0.524558\n",
       "13             14     Card_Merchdesc_Zip_avg_7      0.517607\n",
       "14             15         Card_Merchdesc_avg_7      0.516608\n",
       "15             16      Card_Merchnum_Zip_avg_1      0.514052\n",
       "16             17     Card_Merchnum_desc_avg_7      0.519505\n",
       "17             18     Card_Merchnum_desc_max_1      0.560029\n",
       "18             19             card_merch_avg_1      0.515008\n",
       "19             20            merch_state_max_1      0.522978"
      ]
     },
     "execution_count": 30,
     "metadata": {},
     "output_type": "execute_result"
    }
   ],
   "source": [
    "vars_keep_sorted.reset_index(inplace=True)\n",
    "vars_keep_sorted.reset_index(inplace=True)\n",
    "vars_keep_sorted['index'] = vars_keep_sorted['index'] + 1\n",
    "vars_keep_sorted.rename(columns={'index':'wrapper order'},inplace=True)\n",
    "vars_keep_sorted.to_csv('vars_keep_sorted.csv',index=False)\n",
    "vars_keep_sorted"
   ]
  },
  {
   "cell_type": "code",
   "execution_count": 31,
   "metadata": {
    "scrolled": false
   },
   "outputs": [
    {
     "data": {
      "text/plain": [
       "['card_merch_total_14',\n",
       " 'card_zip3_max_14',\n",
       " 'card_merch_avg_14',\n",
       " 'state_des_max_1',\n",
       " 'card_zip_max_60',\n",
       " 'Card_Merchnum_desc_avg_30',\n",
       " 'Card_Merchnum_Zip_total_60',\n",
       " 'Card_Merchdesc_Zip_total_30',\n",
       " 'card_zip_avg_1',\n",
       " 'Card_Merchnum_Zip_avg_14',\n",
       " 'card_merch_avg_3',\n",
       " 'card_merch_total_60',\n",
       " 'Card_Merchnum_Zip_avg_3',\n",
       " 'Card_Merchdesc_Zip_avg_7',\n",
       " 'Card_Merchdesc_avg_7',\n",
       " 'Card_Merchnum_Zip_avg_1',\n",
       " 'Card_Merchnum_desc_avg_7',\n",
       " 'Card_Merchnum_desc_max_1',\n",
       " 'card_merch_avg_1',\n",
       " 'merch_state_max_1',\n",
       " 'Recnum',\n",
       " 'Fraud']"
      ]
     },
     "execution_count": 31,
     "metadata": {},
     "output_type": "execute_result"
    }
   ],
   "source": [
    "vars_keep_list.append(index_name)\n",
    "vars_keep_list.append(y_name)\n",
    "vars_keep_list"
   ]
  },
  {
   "cell_type": "code",
   "execution_count": 32,
   "metadata": {},
   "outputs": [
    {
     "data": {
      "text/html": [
       "<div>\n",
       "<style scoped>\n",
       "    .dataframe tbody tr th:only-of-type {\n",
       "        vertical-align: middle;\n",
       "    }\n",
       "\n",
       "    .dataframe tbody tr th {\n",
       "        vertical-align: top;\n",
       "    }\n",
       "\n",
       "    .dataframe thead th {\n",
       "        text-align: right;\n",
       "    }\n",
       "</style>\n",
       "<table border=\"1\" class=\"dataframe\">\n",
       "  <thead>\n",
       "    <tr style=\"text-align: right;\">\n",
       "      <th></th>\n",
       "      <th>filter score</th>\n",
       "    </tr>\n",
       "    <tr>\n",
       "      <th>variable</th>\n",
       "      <th></th>\n",
       "    </tr>\n",
       "  </thead>\n",
       "  <tbody>\n",
       "    <tr>\n",
       "      <th>card_zip3_total_7</th>\n",
       "      <td>0.676549</td>\n",
       "    </tr>\n",
       "    <tr>\n",
       "      <th>card_zip_total_7</th>\n",
       "      <td>0.666816</td>\n",
       "    </tr>\n",
       "    <tr>\n",
       "      <th>card_zip3_total_3</th>\n",
       "      <td>0.660260</td>\n",
       "    </tr>\n",
       "    <tr>\n",
       "      <th>card_zip3_total_14</th>\n",
       "      <td>0.659257</td>\n",
       "    </tr>\n",
       "    <tr>\n",
       "      <th>card_state_total_7</th>\n",
       "      <td>0.654135</td>\n",
       "    </tr>\n",
       "    <tr>\n",
       "      <th>...</th>\n",
       "      <td>...</td>\n",
       "    </tr>\n",
       "    <tr>\n",
       "      <th>merch_zip_unique_count_for_merch_state_7</th>\n",
       "      <td>0.000022</td>\n",
       "    </tr>\n",
       "    <tr>\n",
       "      <th>Card_Merchdesc_Zip_unique_count_for_card_state_1</th>\n",
       "      <td>0.000022</td>\n",
       "    </tr>\n",
       "    <tr>\n",
       "      <th>card_zip3_unique_count_for_card_state_1</th>\n",
       "      <td>0.000017</td>\n",
       "    </tr>\n",
       "    <tr>\n",
       "      <th>card_merch_unique_count_for_card_state_1</th>\n",
       "      <td>0.000011</td>\n",
       "    </tr>\n",
       "    <tr>\n",
       "      <th>card_merch_unique_count_for_Cardnum_1</th>\n",
       "      <td>0.000000</td>\n",
       "    </tr>\n",
       "  </tbody>\n",
       "</table>\n",
       "<p>2343 rows × 1 columns</p>\n",
       "</div>"
      ],
      "text/plain": [
       "                                                  filter score\n",
       "variable                                                      \n",
       "card_zip3_total_7                                     0.676549\n",
       "card_zip_total_7                                      0.666816\n",
       "card_zip3_total_3                                     0.660260\n",
       "card_zip3_total_14                                    0.659257\n",
       "card_state_total_7                                    0.654135\n",
       "...                                                        ...\n",
       "merch_zip_unique_count_for_merch_state_7              0.000022\n",
       "Card_Merchdesc_Zip_unique_count_for_card_state_1      0.000022\n",
       "card_zip3_unique_count_for_card_state_1               0.000017\n",
       "card_merch_unique_count_for_card_state_1              0.000011\n",
       "card_merch_unique_count_for_Cardnum_1                 0.000000\n",
       "\n",
       "[2343 rows x 1 columns]"
      ]
     },
     "execution_count": 32,
     "metadata": {},
     "output_type": "execute_result"
    }
   ],
   "source": [
    "filter_score"
   ]
  },
  {
   "cell_type": "code",
   "execution_count": 33,
   "metadata": {},
   "outputs": [
    {
     "name": "stdout",
     "output_type": "stream",
     "text": [
      "CPU times: user 12.5 s, sys: 1.78 s, total: 14.3 s\n",
      "Wall time: 14.5 s\n"
     ]
    },
    {
     "data": {
      "text/plain": [
       "(96397, 2344)"
      ]
     },
     "execution_count": 33,
     "metadata": {},
     "output_type": "execute_result"
    }
   ],
   "source": [
    "%%time\n",
    "df = pd.read_csv(file_name)\n",
    "df.shape"
   ]
  },
  {
   "cell_type": "code",
   "execution_count": 34,
   "metadata": {},
   "outputs": [
    {
     "name": "stdout",
     "output_type": "stream",
     "text": [
      "(96397, 22)\n"
     ]
    }
   ],
   "source": [
    "df_keep = df.filter(vars_keep_list, axis=1)\n",
    "# df_keep = df[df.index.isin(vars_keep_list)]\n",
    "print(df_keep.shape)"
   ]
  },
  {
   "cell_type": "code",
   "execution_count": 35,
   "metadata": {},
   "outputs": [],
   "source": [
    "df_keep.to_csv('vars_final.csv',index=False)"
   ]
  },
  {
   "cell_type": "code",
   "execution_count": 36,
   "metadata": {},
   "outputs": [
    {
     "name": "stdout",
     "output_type": "stream",
     "text": [
      "duration:  0:10:44.857541\n"
     ]
    }
   ],
   "source": [
    "print(\"duration: \", dt.datetime.now() - start_time)"
   ]
  },
  {
   "cell_type": "code",
   "execution_count": 37,
   "metadata": {},
   "outputs": [
    {
     "data": {
      "text/plain": [
       "'/Users/stevecoggeshall/Documents/Teaching/Data sets/done/transactions/transactions 2023 new'"
      ]
     },
     "execution_count": 37,
     "metadata": {},
     "output_type": "execute_result"
    }
   ],
   "source": [
    "%pwd"
   ]
  },
  {
   "cell_type": "code",
   "execution_count": null,
   "metadata": {},
   "outputs": [],
   "source": []
  }
 ],
 "metadata": {
  "anaconda-cloud": {},
  "kernelspec": {
   "display_name": "Python 3 (ipykernel)",
   "language": "python",
   "name": "python3"
  },
  "language_info": {
   "codemirror_mode": {
    "name": "ipython",
    "version": 3
   },
   "file_extension": ".py",
   "mimetype": "text/x-python",
   "name": "python",
   "nbconvert_exporter": "python",
   "pygments_lexer": "ipython3",
   "version": "3.9.13"
  }
 },
 "nbformat": 4,
 "nbformat_minor": 1
}
